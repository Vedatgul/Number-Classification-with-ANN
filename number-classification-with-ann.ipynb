{
 "cells": [
  {
   "cell_type": "markdown",
   "id": "52e27f3b",
   "metadata": {
    "papermill": {
     "duration": 0.004092,
     "end_time": "2024-01-05T10:37:53.367364",
     "exception": false,
     "start_time": "2024-01-05T10:37:53.363272",
     "status": "completed"
    },
    "tags": []
   },
   "source": [
    "# Number Classification with ANN"
   ]
  },
  {
   "cell_type": "code",
   "execution_count": 1,
   "id": "0dbabf91",
   "metadata": {
    "execution": {
     "iopub.execute_input": "2024-01-05T10:37:53.377259Z",
     "iopub.status.busy": "2024-01-05T10:37:53.376954Z",
     "iopub.status.idle": "2024-01-05T10:38:06.930684Z",
     "shell.execute_reply": "2024-01-05T10:38:06.929939Z"
    },
    "papermill": {
     "duration": 13.560748,
     "end_time": "2024-01-05T10:38:06.933019",
     "exception": false,
     "start_time": "2024-01-05T10:37:53.372271",
     "status": "completed"
    },
    "tags": []
   },
   "outputs": [
    {
     "name": "stderr",
     "output_type": "stream",
     "text": [
      "/opt/conda/lib/python3.10/site-packages/scipy/__init__.py:146: UserWarning: A NumPy version >=1.16.5 and <1.23.0 is required for this version of SciPy (detected version 1.24.3\n",
      "  warnings.warn(f\"A NumPy version >={np_minversion} and <{np_maxversion}\"\n"
     ]
    },
    {
     "name": "stdout",
     "output_type": "stream",
     "text": [
      "Downloading data from https://storage.googleapis.com/tensorflow/tf-keras-datasets/mnist.npz\n",
      "11490434/11490434 [==============================] - 0s 0us/step\n"
     ]
    }
   ],
   "source": [
    "from keras.datasets import mnist\n",
    "\n",
    "(train_images, train_labels), (test_images, test_labels) = mnist.load_data()"
   ]
  },
  {
   "cell_type": "code",
   "execution_count": 2,
   "id": "a34423b5",
   "metadata": {
    "execution": {
     "iopub.execute_input": "2024-01-05T10:38:06.943015Z",
     "iopub.status.busy": "2024-01-05T10:38:06.942245Z",
     "iopub.status.idle": "2024-01-05T10:38:06.948773Z",
     "shell.execute_reply": "2024-01-05T10:38:06.947962Z"
    },
    "papermill": {
     "duration": 0.013539,
     "end_time": "2024-01-05T10:38:06.950716",
     "exception": false,
     "start_time": "2024-01-05T10:38:06.937177",
     "status": "completed"
    },
    "tags": []
   },
   "outputs": [
    {
     "data": {
      "text/plain": [
       "(60000, 28, 28)"
      ]
     },
     "execution_count": 2,
     "metadata": {},
     "output_type": "execute_result"
    }
   ],
   "source": [
    "train_images.shape"
   ]
  },
  {
   "cell_type": "code",
   "execution_count": 3,
   "id": "c7c580dd",
   "metadata": {
    "execution": {
     "iopub.execute_input": "2024-01-05T10:38:06.960440Z",
     "iopub.status.busy": "2024-01-05T10:38:06.959838Z",
     "iopub.status.idle": "2024-01-05T10:38:06.965208Z",
     "shell.execute_reply": "2024-01-05T10:38:06.964374Z"
    },
    "papermill": {
     "duration": 0.012309,
     "end_time": "2024-01-05T10:38:06.967125",
     "exception": false,
     "start_time": "2024-01-05T10:38:06.954816",
     "status": "completed"
    },
    "tags": []
   },
   "outputs": [
    {
     "data": {
      "text/plain": [
       "60000"
      ]
     },
     "execution_count": 3,
     "metadata": {},
     "output_type": "execute_result"
    }
   ],
   "source": [
    "len(train_images)"
   ]
  },
  {
   "cell_type": "code",
   "execution_count": 4,
   "id": "f1a03a7d",
   "metadata": {
    "execution": {
     "iopub.execute_input": "2024-01-05T10:38:06.976641Z",
     "iopub.status.busy": "2024-01-05T10:38:06.976370Z",
     "iopub.status.idle": "2024-01-05T10:38:08.157353Z",
     "shell.execute_reply": "2024-01-05T10:38:08.156444Z"
    },
    "papermill": {
     "duration": 1.188664,
     "end_time": "2024-01-05T10:38:08.159898",
     "exception": false,
     "start_time": "2024-01-05T10:38:06.971234",
     "status": "completed"
    },
    "tags": []
   },
   "outputs": [],
   "source": [
    "# Yapay Sinir Ağı Mimarisi\n",
    "from keras import models\n",
    "from keras import layers\n",
    "\n",
    "network = models.Sequential()\n",
    "network.add(layers.Dense(512, activation='relu', input_shape=(28*28,)))\n",
    "network.add(layers.Dense(10, activation='softmax'))"
   ]
  },
  {
   "cell_type": "code",
   "execution_count": 5,
   "id": "d4911d6d",
   "metadata": {
    "execution": {
     "iopub.execute_input": "2024-01-05T10:38:08.170298Z",
     "iopub.status.busy": "2024-01-05T10:38:08.170014Z",
     "iopub.status.idle": "2024-01-05T10:38:08.184370Z",
     "shell.execute_reply": "2024-01-05T10:38:08.183563Z"
    },
    "papermill": {
     "duration": 0.021607,
     "end_time": "2024-01-05T10:38:08.186314",
     "exception": false,
     "start_time": "2024-01-05T10:38:08.164707",
     "status": "completed"
    },
    "tags": []
   },
   "outputs": [],
   "source": [
    "#YSA Modelinin Derlemesi\n",
    "\n",
    "network.compile(optimizer='rmsprop', loss='categorical_crossentropy', metrics=['accuracy'])\n"
   ]
  },
  {
   "cell_type": "code",
   "execution_count": 6,
   "id": "196e1de6",
   "metadata": {
    "execution": {
     "iopub.execute_input": "2024-01-05T10:38:08.195902Z",
     "iopub.status.busy": "2024-01-05T10:38:08.195594Z",
     "iopub.status.idle": "2024-01-05T10:38:08.280561Z",
     "shell.execute_reply": "2024-01-05T10:38:08.279679Z"
    },
    "papermill": {
     "duration": 0.092512,
     "end_time": "2024-01-05T10:38:08.283040",
     "exception": false,
     "start_time": "2024-01-05T10:38:08.190528",
     "status": "completed"
    },
    "tags": []
   },
   "outputs": [],
   "source": [
    "#Girişlerin etiketlerin hazırlanması\n",
    "\n",
    "from keras.utils import to_categorical\n",
    "\n",
    "train_images = train_images.reshape((60000, 28*28))\n",
    "train_images = train_images.astype('float32') / 255\n",
    "\n",
    "test_images = test_images.reshape((10000, 28*28))\n",
    "test_images = test_images.astype('float32') / 255\n",
    "\n",
    "train_labels = to_categorical(train_labels)\n",
    "test_labels = to_categorical(test_labels)  "
   ]
  },
  {
   "cell_type": "code",
   "execution_count": 7,
   "id": "8bd7b696",
   "metadata": {
    "execution": {
     "iopub.execute_input": "2024-01-05T10:38:08.293928Z",
     "iopub.status.busy": "2024-01-05T10:38:08.293210Z",
     "iopub.status.idle": "2024-01-05T10:38:17.280526Z",
     "shell.execute_reply": "2024-01-05T10:38:17.279681Z"
    },
    "papermill": {
     "duration": 8.994642,
     "end_time": "2024-01-05T10:38:17.282541",
     "exception": false,
     "start_time": "2024-01-05T10:38:08.287899",
     "status": "completed"
    },
    "tags": []
   },
   "outputs": [
    {
     "name": "stdout",
     "output_type": "stream",
     "text": [
      "Epoch 1/5\n",
      "469/469 [==============================] - 3s 3ms/step - loss: 0.2642 - accuracy: 0.9242\n",
      "Epoch 2/5\n",
      "469/469 [==============================] - 1s 3ms/step - loss: 0.1081 - accuracy: 0.9682\n",
      "Epoch 3/5\n",
      "469/469 [==============================] - 1s 3ms/step - loss: 0.0728 - accuracy: 0.9778\n",
      "Epoch 4/5\n",
      "469/469 [==============================] - 1s 3ms/step - loss: 0.0530 - accuracy: 0.9843\n",
      "Epoch 5/5\n",
      "469/469 [==============================] - 1s 3ms/step - loss: 0.0395 - accuracy: 0.9884\n"
     ]
    },
    {
     "data": {
      "text/plain": [
       "<keras.src.callbacks.History at 0x7c0236930ca0>"
      ]
     },
     "execution_count": 7,
     "metadata": {},
     "output_type": "execute_result"
    }
   ],
   "source": [
    "#YSA Modelinin Eğitilmesi\n",
    "\n",
    "network.fit(train_images, train_labels, epochs=5, batch_size=128)\n"
   ]
  },
  {
   "cell_type": "code",
   "execution_count": 8,
   "id": "d2f117f8",
   "metadata": {
    "execution": {
     "iopub.execute_input": "2024-01-05T10:38:17.315371Z",
     "iopub.status.busy": "2024-01-05T10:38:17.315061Z",
     "iopub.status.idle": "2024-01-05T10:38:18.309620Z",
     "shell.execute_reply": "2024-01-05T10:38:18.308854Z"
    },
    "papermill": {
     "duration": 1.012694,
     "end_time": "2024-01-05T10:38:18.311478",
     "exception": false,
     "start_time": "2024-01-05T10:38:17.298784",
     "status": "completed"
    },
    "tags": []
   },
   "outputs": [
    {
     "name": "stdout",
     "output_type": "stream",
     "text": [
      "313/313 [==============================] - 1s 2ms/step - loss: 0.0636 - accuracy: 0.9818\n"
     ]
    }
   ],
   "source": [
    "test_loss, test_acc = network.evaluate(test_images, test_labels)"
   ]
  },
  {
   "cell_type": "code",
   "execution_count": 9,
   "id": "71f03462",
   "metadata": {
    "execution": {
     "iopub.execute_input": "2024-01-05T10:38:18.346756Z",
     "iopub.status.busy": "2024-01-05T10:38:18.346438Z",
     "iopub.status.idle": "2024-01-05T10:38:18.350889Z",
     "shell.execute_reply": "2024-01-05T10:38:18.350021Z"
    },
    "papermill": {
     "duration": 0.024886,
     "end_time": "2024-01-05T10:38:18.353260",
     "exception": false,
     "start_time": "2024-01-05T10:38:18.328374",
     "status": "completed"
    },
    "tags": []
   },
   "outputs": [
    {
     "name": "stdout",
     "output_type": "stream",
     "text": [
      "test_loss: 0.06362420320510864\n"
     ]
    }
   ],
   "source": [
    "print('test_loss:', test_loss)"
   ]
  },
  {
   "cell_type": "code",
   "execution_count": 10,
   "id": "6af89e37",
   "metadata": {
    "execution": {
     "iopub.execute_input": "2024-01-05T10:38:18.388003Z",
     "iopub.status.busy": "2024-01-05T10:38:18.387734Z",
     "iopub.status.idle": "2024-01-05T10:38:18.392342Z",
     "shell.execute_reply": "2024-01-05T10:38:18.391460Z"
    },
    "papermill": {
     "duration": 0.024622,
     "end_time": "2024-01-05T10:38:18.394586",
     "exception": false,
     "start_time": "2024-01-05T10:38:18.369964",
     "status": "completed"
    },
    "tags": []
   },
   "outputs": [
    {
     "name": "stdout",
     "output_type": "stream",
     "text": [
      "test_acc: 0.9818000197410583\n"
     ]
    }
   ],
   "source": [
    "print('test_acc:', test_acc)"
   ]
  }
 ],
 "metadata": {
  "kaggle": {
   "accelerator": "nvidiaTeslaT4",
   "dataSources": [],
   "dockerImageVersionId": 30627,
   "isGpuEnabled": true,
   "isInternetEnabled": true,
   "language": "python",
   "sourceType": "notebook"
  },
  "kernelspec": {
   "display_name": "Python 3",
   "language": "python",
   "name": "python3"
  },
  "language_info": {
   "codemirror_mode": {
    "name": "ipython",
    "version": 3
   },
   "file_extension": ".py",
   "mimetype": "text/x-python",
   "name": "python",
   "nbconvert_exporter": "python",
   "pygments_lexer": "ipython3",
   "version": "3.10.12"
  },
  "papermill": {
   "default_parameters": {},
   "duration": 31.656187,
   "end_time": "2024-01-05T10:38:21.473333",
   "environment_variables": {},
   "exception": null,
   "input_path": "__notebook__.ipynb",
   "output_path": "__notebook__.ipynb",
   "parameters": {},
   "start_time": "2024-01-05T10:37:49.817146",
   "version": "2.4.0"
  }
 },
 "nbformat": 4,
 "nbformat_minor": 5
}
